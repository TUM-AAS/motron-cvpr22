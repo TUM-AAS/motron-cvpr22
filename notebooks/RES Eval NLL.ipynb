{
 "cells": [
  {
   "cell_type": "code",
   "execution_count": 1,
   "id": "pregnant-renaissance",
   "metadata": {},
   "outputs": [
    {
     "name": "stdout",
     "output_type": "stream",
     "text": [
      "/experiments_motion\n"
     ]
    }
   ],
   "source": [
    "cd .."
   ]
  },
  {
   "cell_type": "code",
   "execution_count": 2,
   "id": "alone-argument",
   "metadata": {},
   "outputs": [],
   "source": [
    "%load_ext autoreload\n",
    "%autoreload 2"
   ]
  },
  {
   "cell_type": "code",
   "execution_count": 3,
   "id": "indirect-semiconductor",
   "metadata": {},
   "outputs": [],
   "source": [
    "import sys\n",
    "import os\n",
    "sys.path.append('./Motion')\n",
    "sys.path.append('./compare/DLow')"
   ]
  },
  {
   "cell_type": "code",
   "execution_count": 4,
   "id": "stone-administration",
   "metadata": {},
   "outputs": [],
   "source": [
    "import torch\n",
    "import numpy as np\n",
    "import pandas as pd\n",
    "from torch.utils.data import DataLoader\n",
    "import yaml\n",
    "from tqdm import tqdm\n",
    "from IPython.display import display, HTML"
   ]
  },
  {
   "cell_type": "code",
   "execution_count": 5,
   "id": "accepted-jacob",
   "metadata": {},
   "outputs": [],
   "source": [
    "from motion import Motion\n",
    "from motion import Quaternion\n",
    "from h36m.skeleton import H36MSkeleton\n",
    "from h36m.dataset.h36m_torch_dataset import H36MTorchDataset\n",
    "from h36m.dataset.h36m_dataset import H36MDataset\n",
    "from h36m.dataset.h36m_test_dataset import H36MTestDataset\n",
    "from helper.helper import add_static_nodes\n",
    "from motion_pred.eval import *"
   ]
  },
  {
   "cell_type": "code",
   "execution_count": 6,
   "id": "weekly-custody",
   "metadata": {},
   "outputs": [],
   "source": [
    "from metrics import MeanAngleL2Error, MeanPerJointPositionError, NegativeLogLikelihood"
   ]
  },
  {
   "cell_type": "markdown",
   "id": "front-compilation",
   "metadata": {},
   "source": [
    "# Load H3.6M Skeleton"
   ]
  },
  {
   "cell_type": "code",
   "execution_count": 7,
   "id": "magnetic-italic",
   "metadata": {},
   "outputs": [],
   "source": [
    "# Load skeleton configuration\n",
    "with open('./config/h36m_skeleton_gen.yaml', 'r') as stream:\n",
    "    skeleton = H36MSkeleton(**yaml.safe_load(stream))"
   ]
  },
  {
   "cell_type": "markdown",
   "id": "labeled-presence",
   "metadata": {},
   "source": [
    "## Define Eval Metrics"
   ]
  },
  {
   "cell_type": "code",
   "execution_count": 8,
   "id": "emerging-lloyd",
   "metadata": {},
   "outputs": [],
   "source": [
    "mae_l2_metric = MeanAngleL2Error(ignore_root=True) # We ignore the root rotation in the world for the origin joint\n",
    "mpjpe_metric = MeanPerJointPositionError()\n",
    "nll_metric = NegativeLogLikelihood()"
   ]
  },
  {
   "cell_type": "code",
   "execution_count": 9,
   "id": "appreciated-obligation",
   "metadata": {},
   "outputs": [],
   "source": [
    "t = [0.08, 0.16, 0.32, 0.4, 0.56, 0.72, 0.88, 1.]"
   ]
  },
  {
   "cell_type": "markdown",
   "id": "facial-swedish",
   "metadata": {},
   "source": [
    "## Load the Model"
   ]
  },
  {
   "cell_type": "code",
   "execution_count": 10,
   "id": "distributed-costa",
   "metadata": {},
   "outputs": [],
   "source": [
    "MODEL_PATH = './output/h36m/generative/'\n",
    "CHECKPOINT = 'model'\n",
    "CHECKPOINT_PATH = os.path.join(MODEL_PATH, CHECKPOINT + '.pth.tar')"
   ]
  },
  {
   "cell_type": "code",
   "execution_count": 11,
   "id": "composed-azerbaijan",
   "metadata": {},
   "outputs": [],
   "source": [
    "# Load model config\n",
    "with open(os.path.join(MODEL_PATH, 'config.yaml'), 'r') as file:\n",
    "    model_config = yaml.safe_load(file)"
   ]
  },
  {
   "cell_type": "code",
   "execution_count": 12,
   "id": "cosmetic-wales",
   "metadata": {},
   "outputs": [
    {
     "name": "stdout",
     "output_type": "stream",
     "text": [
      "Model Loaded\n"
     ]
    }
   ],
   "source": [
    "model = Motion(skeleton, T=skeleton.nodes_type_id_dynamic, **model_config)\n",
    "model.load_state_dict(torch.load(CHECKPOINT_PATH, map_location=torch.device('cpu')))\n",
    "model.eval()\n",
    "print('Model Loaded')"
   ]
  },
  {
   "cell_type": "code",
   "execution_count": 13,
   "id": "7387f941",
   "metadata": {},
   "outputs": [],
   "source": [
    "from scipy.stats import gaussian_kde\n",
    "def compute_kde_nll(y, y_pred):\n",
    "    bs, sp, ts, ns, d = y_pred.shape\n",
    "    kde_ll = torch.zeros((bs, ts, ns))\n",
    "\n",
    "    for b in range(bs):\n",
    "        for t in range(ts):\n",
    "            for n in range(ns):\n",
    "                try:\n",
    "                    kde = gaussian_kde(y_pred[b, :, t, n].T)\n",
    "                    pdf = kde.logpdf(y[b, t, n].T)\n",
    "                    kde_ll[b, t, n] = torch.tensor(pdf)\n",
    "                except np.linalg.LinAlgError:\n",
    "                    print(b, t, n)\n",
    "                    print('nan')\n",
    "                    pass\n",
    "\n",
    "    return -kde_ll"
   ]
  },
  {
   "cell_type": "markdown",
   "id": "south-parker",
   "metadata": {},
   "source": [
    "## Load Evaluation Data"
   ]
  },
  {
   "cell_type": "code",
   "execution_count": 14,
   "id": "interpreted-corner",
   "metadata": {},
   "outputs": [],
   "source": [
    "DATA_PATH = './data/processed/h3.6m.npz'"
   ]
  },
  {
   "cell_type": "code",
   "execution_count": 15,
   "id": "level-fountain",
   "metadata": {},
   "outputs": [],
   "source": [
    "h36m_dataset = H36MDataset(DATA_PATH, dataset_fps=50, dataset_downsample_factor=1)"
   ]
  },
  {
   "cell_type": "code",
   "execution_count": 16,
   "id": "nuclear-hawaiian",
   "metadata": {},
   "outputs": [],
   "source": [
    "def skeleton_set(skeleton, s):\n",
    "    jl = []\n",
    "    for i, p in enumerate(skeleton._parents):\n",
    "        if p > -1:\n",
    "            jl.append((s[i] - s[p]) * 1000.)\n",
    "    l = torch.tensor(np.linalg.norm(np.array(jl), axis=-1))\n",
    "    skeleton._offsets[skeleton._offsets.abs() > 0.] = l[l.abs() > 0.] * torch.sign(skeleton._offsets[skeleton._offsets.abs() > 0.])"
   ]
  },
  {
   "cell_type": "code",
   "execution_count": 17,
   "id": "taken-visibility",
   "metadata": {},
   "outputs": [],
   "source": [
    "d = np.load('./compare/DLow/data/data_3d_h36m.npz', allow_pickle=True)\n",
    "pos = d['positions_3d'].item()"
   ]
  },
  {
   "cell_type": "code",
   "execution_count": 18,
   "id": "adult-respondent",
   "metadata": {},
   "outputs": [],
   "source": [
    "ph = 100"
   ]
  },
  {
   "cell_type": "code",
   "execution_count": 19,
   "id": "rolled-fisher",
   "metadata": {},
   "outputs": [],
   "source": [
    "dataset_eval_9 = H36MTorchDataset(h36m_dataset,\n",
    "                                subjects=['S9'],\n",
    "                                history_length=25,\n",
    "                                prediction_horizon=ph,\n",
    "                                step=25)\n",
    "data_loader_eval = DataLoader(dataset_eval_9, shuffle=False, batch_size=20)\n",
    "skeleton_set(skeleton, pos['S9']['Phoning'][100])"
   ]
  },
  {
   "cell_type": "code",
   "execution_count": 20,
   "id": "moderate-porter",
   "metadata": {},
   "outputs": [],
   "source": [
    "removed_joints = {0, 4, 5, 9, 10, 11, 16, 20, 21, 22, 23, 24, 28, 29, 30, 31}\n",
    "kept_joints = np.array([x for x in range(32) if x not in removed_joints])"
   ]
  },
  {
   "cell_type": "code",
   "execution_count": 21,
   "id": "consecutive-adoption",
   "metadata": {},
   "outputs": [],
   "source": [
    "nll_list = []"
   ]
  },
  {
   "cell_type": "code",
   "execution_count": 22,
   "id": "suburban-easter",
   "metadata": {},
   "outputs": [
    {
     "name": "stderr",
     "output_type": "stream",
     "text": [
      "100%|█████████████████████████████████████████████████████████████████████████████████████████████████████████████████████████████████████████████████████████████████████████████████████████████████████| 153/153 [2:36:08<00:00, 61.23s/it]\n"
     ]
    }
   ],
   "source": [
    "n_samp = 1000\n",
    "with torch.no_grad():\n",
    "    for x, y in tqdm(data_loader_eval):\n",
    "        # Remove static nodes\n",
    "        x_dynamic = Quaternion.qfix_positive_(x[:, :, skeleton.dynamic_nodes])\n",
    "\n",
    "        # Run Model \n",
    "        p_q, _, _, _ = model(x_dynamic, None, ph=ph)\n",
    "\n",
    "        # The mode of the Distribution are the rotations\n",
    "        q_samp = p_q.sample((n_samp,))\n",
    "        # Add static rotations q = [1., 0., 0., 0.]\n",
    "        q_samp_all = add_static_nodes(q_samp, skeleton.static_nodes, skeleton.dynamic_nodes)\n",
    "        q_samp_all = q_samp_all.permute(1, 0, 2, 3, 4).contiguous()\n",
    "        \n",
    "        pos_saml_all = skeleton(q_samp_all.view(-1, 32, 4), ignore_root=False).view(-1, n_samp, ph, 32, 3) / 1000.\n",
    "        pos_saml_all = pos_saml_all[..., [0, 2, 1]] * torch.tensor([[[1., -1., 1.]]])\n",
    "        pos_y = skeleton(y.view(-1, 32, 4), ignore_root=False).view(-1, ph, 32, 3) / 1000.\n",
    "        pos_y = pos_y[..., [0, 2, 1]] * torch.tensor([[[1., -1., 1.]]])\n",
    "\n",
    "        nll_list.append(compute_kde_nll(pos_y[..., kept_joints, :], pos_saml_all[..., kept_joints, :]))"
   ]
  },
  {
   "cell_type": "code",
   "execution_count": 23,
   "id": "complicated-viewer",
   "metadata": {},
   "outputs": [],
   "source": [
    "dataset_eval_11 = H36MTorchDataset(h36m_dataset,\n",
    "                                subjects=['S11'],\n",
    "                                history_length=25,\n",
    "                                prediction_horizon=ph,\n",
    "                                skip_11_d=True,\n",
    "                                step=25)\n",
    "data_loader_eval = DataLoader(dataset_eval_11, shuffle=False, batch_size=20)\n",
    "skeleton_set(skeleton, pos['S11']['Phoning 2'][100])"
   ]
  },
  {
   "cell_type": "code",
   "execution_count": 24,
   "id": "australian-income",
   "metadata": {},
   "outputs": [
    {
     "name": "stderr",
     "output_type": "stream",
     "text": [
      "100%|█████████████████████████████████████████████████████████████████████████████████████████████████████████████████████████████████████████████████████████████████████████████████████████████████████| 107/107 [1:48:46<00:00, 61.00s/it]\n"
     ]
    }
   ],
   "source": [
    "n_samp = 1000\n",
    "with torch.no_grad():\n",
    "    for x, y in tqdm(data_loader_eval):\n",
    "        y = y[:, :ph]\n",
    "        # Remove static nodes\n",
    "        x_dynamic = Quaternion.qfix_positive_(x[:, :, skeleton.dynamic_nodes])\n",
    "\n",
    "        # Run Model \n",
    "        p_q, _, _, _ = model(x_dynamic, None, ph=ph)\n",
    "\n",
    "        # The mode of the Distribution are the rotations\n",
    "        q_samp = p_q.sample((n_samp,))\n",
    "        # Add static rotations q = [1., 0., 0., 0.]\n",
    "        q_samp_all = add_static_nodes(q_samp, skeleton.static_nodes, skeleton.dynamic_nodes)\n",
    "        q_samp_all = q_samp_all.permute(1, 0, 2, 3, 4).contiguous()\n",
    "        \n",
    "        pos_saml_all = skeleton(q_samp_all.view(-1, 32, 4), ignore_root=False).view(-1, n_samp, ph, 32, 3) / 1000.\n",
    "        pos_saml_all = pos_saml_all[..., [0, 2, 1]] * torch.tensor([[[1., -1., 1.]]])\n",
    "        pos_y = skeleton(y.view(-1, 32, 4), ignore_root=False).view(-1, ph, 32, 3) / 1000.\n",
    "        pos_y = pos_y[..., [0, 2, 1]] * torch.tensor([[[1., -1., 1.]]])\n",
    "\n",
    "        nll_list.append(compute_kde_nll(pos_y[..., kept_joints, :], pos_saml_all[..., kept_joints, :]))"
   ]
  },
  {
   "cell_type": "code",
   "execution_count": 25,
   "id": "liberal-crowd",
   "metadata": {},
   "outputs": [],
   "source": [
    "nll = torch.cat(nll_list, dim=0)"
   ]
  },
  {
   "cell_type": "code",
   "execution_count": 26,
   "id": "6790c470",
   "metadata": {},
   "outputs": [
    {
     "data": {
      "text/plain": [
       "torch.Size([5168, 100, 16])"
      ]
     },
     "execution_count": 26,
     "metadata": {},
     "output_type": "execute_result"
    }
   ],
   "source": [
    "nll.shape"
   ]
  },
  {
   "cell_type": "code",
   "execution_count": 27,
   "id": "e796ff30",
   "metadata": {},
   "outputs": [
    {
     "data": {
      "text/plain": [
       "tensor([-225.4230, -219.6264, -213.3682, -206.5681, -199.9201, -193.8234,\n",
       "        -188.0764, -183.2545, -178.6342, -174.5607, -170.7909, -167.4265,\n",
       "        -164.1727, -161.2912, -158.5014, -155.9699, -153.7534, -151.5397,\n",
       "        -149.3174, -147.3510, -145.4922, -143.7001, -142.1263, -140.5972,\n",
       "        -139.1247, -137.6799, -136.3465, -135.2609, -133.9920, -132.7111,\n",
       "        -131.5819, -130.3897, -129.4291, -128.3610, -127.3568, -126.3026,\n",
       "        -125.4522, -124.5719, -123.6919, -122.8751, -122.1060, -121.3581,\n",
       "        -120.4761, -119.5919, -118.8676, -118.1999, -117.5881, -116.9597,\n",
       "        -116.3734, -115.7075, -115.0430, -114.3552, -113.9391, -113.2986,\n",
       "        -112.7864, -112.3216, -111.7343, -111.2165, -110.6406, -110.2042,\n",
       "        -109.6375, -109.2118, -108.7496, -108.1491, -107.6687, -107.2041,\n",
       "        -106.7663, -106.2627, -105.7939, -105.2628, -104.9077, -104.5189,\n",
       "        -104.1635, -103.7919, -103.4356, -103.0065, -102.6123, -102.3383,\n",
       "        -101.8389, -101.5814, -101.2291, -100.8088, -100.5858, -100.1535,\n",
       "         -99.8183,  -99.5381,  -99.2446,  -98.9113,  -98.5526,  -98.2295,\n",
       "         -97.9217,  -97.6139,  -97.2809,  -96.8623,  -96.5484,  -96.2781,\n",
       "         -96.0728,  -95.8510,  -95.5227,  -95.2220])"
      ]
     },
     "execution_count": 27,
     "metadata": {},
     "output_type": "execute_result"
    }
   ],
   "source": [
    "nll.clip(max=20).sum(-1).mean(0)"
   ]
  },
  {
   "cell_type": "code",
   "execution_count": 28,
   "id": "f55cfa84",
   "metadata": {},
   "outputs": [
    {
     "data": {
      "text/plain": [
       "tensor([-214.5984, -208.1160, -199.0680, -167.1066, -183.8944, -175.1492,\n",
       "        -169.4911, -166.5029, -162.9499, -153.9155, -159.3693, -156.7440,\n",
       "        -153.6215, -150.4130, -148.6889, -146.4549, -146.0190, -143.8381,\n",
       "        -129.8577, -138.3621, -124.5780, -136.6858, -136.4832, -134.9216,\n",
       "        -128.6812, -132.2304, -130.5939, -126.7591, -122.6389, -127.4625,\n",
       "        -125.5627, -120.9751, -125.1916, -123.9899, -116.2621, -121.6524,\n",
       "        -119.1794, -117.9510, -117.1451, -116.5562, -114.4542, -116.5043,\n",
       "        -115.4271, -106.2266, -113.1922, -102.1479, -110.8377, -111.1752,\n",
       "        -109.9623, -108.3451, -105.4791, -105.3250, -104.6029,  -96.7965,\n",
       "        -103.1861, -101.7845,  -97.8379, -106.2903, -105.9496,  -96.3392,\n",
       "        -102.2340,  -98.4339,  -97.1623,  -96.9791,  -98.0031,  -94.5512,\n",
       "         -99.4137, -101.2198,  -95.9108, -101.6905,  -90.2884, -100.9414,\n",
       "        -102.0880, -101.9720, -101.3736,  -98.7354, -101.7103, -103.3430,\n",
       "        -102.3781, -102.6696, -101.6734, -101.3107, -102.6035, -101.6934,\n",
       "         -99.6346, -101.9496, -101.5898, -101.1913, -100.4436, -100.4845,\n",
       "         -98.6164, -100.9099, -100.5825,  -93.2521, -100.1406,  -89.4929,\n",
       "         -99.1650, -100.1601,  -99.9663,  -99.5537])"
      ]
     },
     "execution_count": 28,
     "metadata": {},
     "output_type": "execute_result"
    }
   ],
   "source": [
    "nll.sum(-1).mean(0)"
   ]
  },
  {
   "cell_type": "code",
   "execution_count": 2,
   "id": "soviet-basic",
   "metadata": {},
   "outputs": [],
   "source": [
    "import torch\n",
    "import numpy as np\n",
    "import matplotlib.pyplot as plt"
   ]
  },
  {
   "cell_type": "code",
   "execution_count": 3,
   "id": "italian-relevance",
   "metadata": {},
   "outputs": [],
   "source": [
    "our_nll = torch.tensor([-225.4230, -219.6264, -213.3682, -206.5681, -199.9201, -193.8234,\n",
    "        -188.0764, -183.2545, -178.6342, -174.5607, -170.7909, -167.4265,\n",
    "        -164.1727, -161.2912, -158.5014, -155.9699, -153.7534, -151.5397,\n",
    "        -149.3174, -147.3510, -145.4922, -143.7001, -142.1263, -140.5972,\n",
    "        -139.1247, -137.6799, -136.3465, -135.2609, -133.9920, -132.7111,\n",
    "        -131.5819, -130.3897, -129.4291, -128.3610, -127.3568, -126.3026,\n",
    "        -125.4522, -124.5719, -123.6919, -122.8751, -122.1060, -121.3581,\n",
    "        -120.4761, -119.5919, -118.8676, -118.1999, -117.5881, -116.9597,\n",
    "        -116.3734, -115.7075, -115.0430, -114.3552, -113.9391, -113.2986,\n",
    "        -112.7864, -112.3216, -111.7343, -111.2165, -110.6406, -110.2042,\n",
    "        -109.6375, -109.2118, -108.7496, -108.1491, -107.6687, -107.2041,\n",
    "        -106.7663, -106.2627, -105.7939, -105.2628, -104.9077, -104.5189,\n",
    "        -104.1635, -103.7919, -103.4356, -103.0065, -102.6123, -102.3383,\n",
    "        -101.8389, -101.5814, -101.2291, -100.8088, -100.5858, -100.1535,\n",
    "         -99.8183,  -99.5381,  -99.2446,  -98.9113,  -98.5526,  -98.2295,\n",
    "         -97.9217,  -97.6139,  -97.2809,  -96.8623,  -96.5484,  -96.2781,\n",
    "         -96.0728,  -95.8510,  -95.5227,  -95.2220])"
   ]
  },
  {
   "cell_type": "code",
   "execution_count": 4,
   "id": "hispanic-advertiser",
   "metadata": {},
   "outputs": [],
   "source": [
    "dlow_nll = torch.tensor([115.6573,  53.8431, -12.9685, -51.4870, -69.4903, -78.1288, -82.5270,\n",
    "        -84.7968, -85.8376, -86.4732, -86.9339, -87.1482, -87.2519, -87.2515,\n",
    "        -87.2234, -87.0629, -86.8170, -86.5770, -86.1807, -85.7386, -85.3267,\n",
    "        -84.9387, -84.5291, -84.0931, -83.6289, -83.1264, -82.6000, -82.0796,\n",
    "        -81.4962, -80.8790, -80.2513, -79.6091, -79.0010, -78.3597, -77.7429,\n",
    "        -77.1220, -76.4933, -75.9142, -75.3304, -74.7518, -74.1841, -73.6319,\n",
    "        -73.0862, -72.5533, -72.0395, -71.5494, -71.0771, -70.6249, -70.1895,\n",
    "        -69.7316, -69.2791, -68.8391, -68.3947, -67.9507, -67.5247, -67.1117,\n",
    "        -66.6923, -66.2854, -65.8880, -65.5115, -65.1341, -64.7701, -64.4187,\n",
    "        -64.0621, -63.7194, -63.3797, -63.0506, -62.7341, -62.4353, -62.1468,\n",
    "        -61.8750, -61.6272, -61.3977, -61.1749, -60.9442, -60.7227, -60.5096,\n",
    "        -60.3074, -60.1050, -59.9169, -59.7381, -59.5634, -59.4109, -59.2708,\n",
    "        -59.1418, -59.0219, -58.9086, -58.8024, -58.6978, -58.6083, -58.5185,\n",
    "        -58.4486, -58.3861, -58.3287, -58.2748, -58.2284, -58.1905, -58.1610,\n",
    "        -58.1342, -58.0955])"
   ]
  },
  {
   "cell_type": "code",
   "execution_count": 5,
   "id": "three-rachel",
   "metadata": {},
   "outputs": [],
   "source": [
    "x = np.arange(0, 100) * 0.02"
   ]
  },
  {
   "cell_type": "code",
   "execution_count": 12,
   "id": "perfect-bailey",
   "metadata": {},
   "outputs": [
    {
     "data": {
      "image/png": "[encoded data removed]",
      "text/plain": [
       "<Figure size 640x224 with 1 Axes>"
      ]
     },
     "metadata": {
      "needs_background": "light"
     },
     "output_type": "display_data"
    }
   ],
   "source": [
    "import matplotlib.pyplot as plt\n",
    "plt.figure(figsize=(8, 2.8), dpi=80)\n",
    "plt.rcParams.update({'font.size': 13})\n",
    "plt.plot(x, our_nll.numpy(), c='#33A02C', label='Ours', linewidth=4)\n",
    "plt.plot(x, dlow_nll.numpy(), c='#1F78B4', label='DLow', linewidth=4)\n",
    "plt.legend()\n",
    "plt.gca().set_xlabel('t')\n",
    "plt.gca().set_ylabel('Negative Log Likelihood')\n",
    "plt.savefig('./nll.pdf', bbox_inches='tight', dpi=300)"
   ]
  },
  {
   "cell_type": "code",
   "execution_count": null,
   "id": "stable-backup",
   "metadata": {},
   "outputs": [],
   "source": []
  }
 ],
 "metadata": {
  "kernelspec": {
   "display_name": "Python 3 (ipykernel)",
   "language": "python",
   "name": "python3"
  },
  "language_info": {
   "codemirror_mode": {
    "name": "ipython",
    "version": 3
   },
   "file_extension": ".py",
   "mimetype": "text/x-python",
   "name": "python",
   "nbconvert_exporter": "python",
   "pygments_lexer": "ipython3",
   "version": "3.8.10"
  }
 },
 "nbformat": 4,
 "nbformat_minor": 5
}

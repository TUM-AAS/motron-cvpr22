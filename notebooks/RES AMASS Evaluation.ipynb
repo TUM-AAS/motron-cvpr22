{
 "cells": [
  {
   "cell_type": "code",
   "execution_count": 1,
   "id": "b20fcd89",
   "metadata": {},
   "outputs": [
    {
     "name": "stdout",
     "output_type": "stream",
     "text": [
      "/experiments_motion\n"
     ]
    }
   ],
   "source": [
    "cd .."
   ]
  },
  {
   "cell_type": "code",
   "execution_count": 2,
   "id": "df31a1ef",
   "metadata": {},
   "outputs": [],
   "source": [
    "%load_ext autoreload\n",
    "%autoreload 2"
   ]
  },
  {
   "cell_type": "code",
   "execution_count": 3,
   "id": "82c0618e",
   "metadata": {},
   "outputs": [],
   "source": [
    "import sys\n",
    "import os\n",
    "sys.path.append('./Motion')"
   ]
  },
  {
   "cell_type": "code",
   "execution_count": 4,
   "id": "c6d85620",
   "metadata": {},
   "outputs": [],
   "source": [
    "import torch\n",
    "import numpy as np\n",
    "import zarr\n",
    "import pandas as pd\n",
    "from torch.utils.data import DataLoader, ConcatDataset\n",
    "import yaml\n",
    "from tqdm import tqdm\n",
    "from IPython.display import display, HTML"
   ]
  },
  {
   "cell_type": "code",
   "execution_count": 6,
   "id": "ba10982a",
   "metadata": {},
   "outputs": [],
   "source": [
    "from motion import Motion\n",
    "from motion import Quaternion\n",
    "from amass.skeleton import AMASSSkeleton\n",
    "from amass.amass_torch_dataset import AMASSTorchDataset\n",
    "from misc.helper import add_static_nodes"
   ]
  },
  {
   "cell_type": "code",
   "execution_count": 7,
   "id": "ed8da233",
   "metadata": {},
   "outputs": [],
   "source": [
    "from metrics import MeanAngleL2Error, MeanPerJointPositionError, QuaternionAngle"
   ]
  },
  {
   "cell_type": "markdown",
   "id": "f29031fd",
   "metadata": {},
   "source": [
    "## Load AMASS Skeleton"
   ]
  },
  {
   "cell_type": "code",
   "execution_count": 8,
   "id": "c35d20d6",
   "metadata": {},
   "outputs": [],
   "source": [
    "# Load skeleton configuration\n",
    "with open('./config/amass_skeleton.yaml', 'r') as stream:\n",
    "    skeleton = AMASSSkeleton(**yaml.safe_load(stream))"
   ]
  },
  {
   "cell_type": "markdown",
   "id": "705dbbd9",
   "metadata": {},
   "source": [
    "## Load Evaluation Data"
   ]
  },
  {
   "cell_type": "code",
   "execution_count": 9,
   "id": "3f517e64",
   "metadata": {},
   "outputs": [],
   "source": [
    "dataset_path = './data/processed/amass'\n",
    "datasets = ['Transitionsmocap', 'SSMsynced']"
   ]
  },
  {
   "cell_type": "code",
   "execution_count": 10,
   "id": "56bc4e01",
   "metadata": {},
   "outputs": [],
   "source": [
    "datasets_list = []\n",
    "for dataset in datasets:\n",
    "    z_index = zarr.open(os.path.join(dataset_path, dataset, 'poses_index.zarr'), 'r')\n",
    "    z_poses = zarr.open(os.path.join(dataset_path, dataset, 'poses.zarr'), 'r')\n",
    "    datasets_list.append(AMASSTorchDataset(z_index, z_poses, history_length=40, prediction_horizon=20))\n",
    "dataset_eval = ConcatDataset(datasets_list)"
   ]
  },
  {
   "cell_type": "markdown",
   "id": "c9bf636d",
   "metadata": {},
   "source": [
    "## Define Eval Metrics"
   ]
  },
  {
   "cell_type": "code",
   "execution_count": 11,
   "id": "e1b66e81",
   "metadata": {},
   "outputs": [],
   "source": [
    "mae_l2_metric = MeanAngleL2Error(ignore_root=True) # We ignore the root rotation in the world for the origin joint\n",
    "mpjpe_metric = MeanPerJointPositionError()"
   ]
  },
  {
   "cell_type": "code",
   "execution_count": 12,
   "id": "dfb15b11",
   "metadata": {},
   "outputs": [],
   "source": [
    "t = [1, 3, 7, 11, 15, 19]"
   ]
  },
  {
   "cell_type": "markdown",
   "id": "e362f7f5",
   "metadata": {},
   "source": [
    "# Evaluation of Model on AMASS dataset"
   ]
  },
  {
   "cell_type": "markdown",
   "id": "204087a1",
   "metadata": {},
   "source": [
    "## Load the Model"
   ]
  },
  {
   "cell_type": "code",
   "execution_count": 13,
   "id": "a8c98cdc",
   "metadata": {},
   "outputs": [],
   "source": [
    "MODEL_PATH = './output/amass/deterministic'\n",
    "CHECKPOINT = 'model'\n",
    "CHECKPOINT_PATH = os.path.join(MODEL_PATH, CHECKPOINT + '.pth.tar')"
   ]
  },
  {
   "cell_type": "code",
   "execution_count": 18,
   "id": "cdb87236",
   "metadata": {},
   "outputs": [],
   "source": [
    "# Load model config\n",
    "with open(os.path.join(MODEL_PATH, 'config.yaml'), 'r') as file:\n",
    "    model_config = yaml.safe_load(file)"
   ]
  },
  {
   "cell_type": "code",
   "execution_count": 19,
   "id": "514cfc8d",
   "metadata": {},
   "outputs": [
    {
     "name": "stdout",
     "output_type": "stream",
     "text": [
      "Model Loaded\n"
     ]
    }
   ],
   "source": [
    "model = Motion(skeleton, T=skeleton.nodes_type_id_dynamic, **model_config)\n",
    "model.load_state_dict(torch.load(CHECKPOINT_PATH, map_location=torch.device('cpu')))\n",
    "model.eval()\n",
    "print('Model Loaded')"
   ]
  },
  {
   "cell_type": "markdown",
   "id": "719e25f7",
   "metadata": {},
   "source": [
    "## Evaluate on 10000 samples"
   ]
  },
  {
   "cell_type": "code",
   "execution_count": 20,
   "id": "44d5e8d6",
   "metadata": {},
   "outputs": [],
   "source": [
    "eval_idx = list(torch.linspace(0, len(dataset_eval)-1, 10000, dtype=torch.int).numpy())\n",
    "eval_subset = torch.utils.data.Subset(dataset_eval, eval_idx)\n",
    "data_loader_eval = DataLoader(eval_subset, shuffle=False, batch_size=256)"
   ]
  },
  {
   "cell_type": "code",
   "execution_count": 24,
   "id": "ce8ffe8f",
   "metadata": {},
   "outputs": [],
   "source": [
    "def sorted_modes(p_q):\n",
    "    qs = p_q.component_distribution.mean\n",
    "    probs = p_q.mixture_distribution.probs\n",
    "    w = probs\n",
    "    probs_sorted, si = w.sort(-1, descending=True)\n",
    "    mode_probs.append(probs_sorted)\n",
    "    si = si.repeat(1 ,qs.shape[1], qs.shape[2], 1)\n",
    "    q_mode = qs.gather(dim=-2, index=si.unsqueeze(-1).repeat(1, 1, 1, 1, 4)).squeeze(-2)\n",
    "    return q_mode"
   ]
  },
  {
   "cell_type": "code",
   "execution_count": 25,
   "id": "f97a2778",
   "metadata": {
    "scrolled": true
   },
   "outputs": [
    {
     "name": "stderr",
     "output_type": "stream",
     "text": [
      "\r",
      "  0%|                                                                                                                                                                                                                  | 0/40 [00:00<?, ?it/s]"
     ]
    },
    {
     "name": "stdout",
     "output_type": "stream",
     "text": [
      "Warning: Returns the mean of the most likely latent mode. Not the mode of the Mixture Model\n"
     ]
    },
    {
     "name": "stderr",
     "output_type": "stream",
     "text": [
      "\r",
      "  2%|█████                                                                                                                                                                                                     | 1/40 [00:03<02:25,  3.73s/it]"
     ]
    },
    {
     "name": "stdout",
     "output_type": "stream",
     "text": [
      "Warning: Returns the mean of the most likely latent mode. Not the mode of the Mixture Model\n"
     ]
    },
    {
     "name": "stderr",
     "output_type": "stream",
     "text": [
      "\r",
      "  5%|██████████                                                                                                                                                                                                | 2/40 [00:07<02:24,  3.81s/it]"
     ]
    },
    {
     "name": "stdout",
     "output_type": "stream",
     "text": [
      "Warning: Returns the mean of the most likely latent mode. Not the mode of the Mixture Model\n"
     ]
    },
    {
     "name": "stderr",
     "output_type": "stream",
     "text": [
      "\r",
      "  8%|███████████████▏                                                                                                                                                                                          | 3/40 [00:11<02:22,  3.84s/it]"
     ]
    },
    {
     "name": "stdout",
     "output_type": "stream",
     "text": [
      "Warning: Returns the mean of the most likely latent mode. Not the mode of the Mixture Model\n"
     ]
    },
    {
     "name": "stderr",
     "output_type": "stream",
     "text": [
      "\r",
      " 10%|████████████████████▏                                                                                                                                                                                     | 4/40 [00:15<02:18,  3.85s/it]"
     ]
    },
    {
     "name": "stdout",
     "output_type": "stream",
     "text": [
      "Warning: Returns the mean of the most likely latent mode. Not the mode of the Mixture Model\n"
     ]
    },
    {
     "name": "stderr",
     "output_type": "stream",
     "text": [
      "\r",
      " 12%|█████████████████████████▎                                                                                                                                                                                | 5/40 [00:19<02:14,  3.84s/it]"
     ]
    },
    {
     "name": "stdout",
     "output_type": "stream",
     "text": [
      "Warning: Returns the mean of the most likely latent mode. Not the mode of the Mixture Model\n"
     ]
    },
    {
     "name": "stderr",
     "output_type": "stream",
     "text": [
      "\r",
      " 15%|██████████████████████████████▎                                                                                                                                                                           | 6/40 [00:23<02:11,  3.86s/it]"
     ]
    },
    {
     "name": "stdout",
     "output_type": "stream",
     "text": [
      "Warning: Returns the mean of the most likely latent mode. Not the mode of the Mixture Model\n"
     ]
    },
    {
     "name": "stderr",
     "output_type": "stream",
     "text": [
      "\r",
      " 18%|███████████████████████████████████▎                                                                                                                                                                      | 7/40 [00:26<02:07,  3.86s/it]"
     ]
    },
    {
     "name": "stdout",
     "output_type": "stream",
     "text": [
      "Warning: Returns the mean of the most likely latent mode. Not the mode of the Mixture Model\n"
     ]
    },
    {
     "name": "stderr",
     "output_type": "stream",
     "text": [
      "\r",
      " 20%|████████████████████████████████████████▍                                                                                                                                                                 | 8/40 [00:30<02:02,  3.82s/it]"
     ]
    },
    {
     "name": "stdout",
     "output_type": "stream",
     "text": [
      "Warning: Returns the mean of the most likely latent mode. Not the mode of the Mixture Model\n"
     ]
    },
    {
     "name": "stderr",
     "output_type": "stream",
     "text": [
      "\r",
      " 22%|█████████████████████████████████████████████▍                                                                                                                                                            | 9/40 [00:34<01:57,  3.80s/it]"
     ]
    },
    {
     "name": "stdout",
     "output_type": "stream",
     "text": [
      "Warning: Returns the mean of the most likely latent mode. Not the mode of the Mixture Model\n"
     ]
    },
    {
     "name": "stderr",
     "output_type": "stream",
     "text": [
      "\r",
      " 25%|██████████████████████████████████████████████████▎                                                                                                                                                      | 10/40 [00:38<01:54,  3.80s/it]"
     ]
    },
    {
     "name": "stdout",
     "output_type": "stream",
     "text": [
      "Warning: Returns the mean of the most likely latent mode. Not the mode of the Mixture Model\n"
     ]
    },
    {
     "name": "stderr",
     "output_type": "stream",
     "text": [
      "\r",
      " 28%|███████████████████████████████████████████████████████▎                                                                                                                                                 | 11/40 [00:42<01:50,  3.81s/it]"
     ]
    },
    {
     "name": "stdout",
     "output_type": "stream",
     "text": [
      "Warning: Returns the mean of the most likely latent mode. Not the mode of the Mixture Model\n"
     ]
    },
    {
     "name": "stderr",
     "output_type": "stream",
     "text": [
      "\r",
      " 30%|████████████████████████████████████████████████████████████▎                                                                                                                                            | 12/40 [00:45<01:45,  3.78s/it]"
     ]
    },
    {
     "name": "stdout",
     "output_type": "stream",
     "text": [
      "Warning: Returns the mean of the most likely latent mode. Not the mode of the Mixture Model\n"
     ]
    },
    {
     "name": "stderr",
     "output_type": "stream",
     "text": [
      "\r",
      " 32%|█████████████████████████████████████████████████████████████████▎                                                                                                                                       | 13/40 [00:49<01:41,  3.76s/it]"
     ]
    },
    {
     "name": "stdout",
     "output_type": "stream",
     "text": [
      "Warning: Returns the mean of the most likely latent mode. Not the mode of the Mixture Model\n"
     ]
    },
    {
     "name": "stderr",
     "output_type": "stream",
     "text": [
      "\r",
      " 35%|██████████████████████████████████████████████████████████████████████▎                                                                                                                                  | 14/40 [00:53<01:37,  3.75s/it]"
     ]
    },
    {
     "name": "stdout",
     "output_type": "stream",
     "text": [
      "Warning: Returns the mean of the most likely latent mode. Not the mode of the Mixture Model\n"
     ]
    },
    {
     "name": "stderr",
     "output_type": "stream",
     "text": [
      "\r",
      " 38%|███████████████████████████████████████████████████████████████████████████▍                                                                                                                             | 15/40 [00:56<01:33,  3.75s/it]"
     ]
    },
    {
     "name": "stdout",
     "output_type": "stream",
     "text": [
      "Warning: Returns the mean of the most likely latent mode. Not the mode of the Mixture Model\n"
     ]
    },
    {
     "name": "stderr",
     "output_type": "stream",
     "text": [
      "\r",
      " 40%|████████████████████████████████████████████████████████████████████████████████▍                                                                                                                        | 16/40 [01:00<01:29,  3.72s/it]"
     ]
    },
    {
     "name": "stdout",
     "output_type": "stream",
     "text": [
      "Warning: Returns the mean of the most likely latent mode. Not the mode of the Mixture Model\n"
     ]
    },
    {
     "name": "stderr",
     "output_type": "stream",
     "text": [
      "\r",
      " 42%|█████████████████████████████████████████████████████████████████████████████████████▍                                                                                                                   | 17/40 [01:04<01:25,  3.72s/it]"
     ]
    },
    {
     "name": "stdout",
     "output_type": "stream",
     "text": [
      "Warning: Returns the mean of the most likely latent mode. Not the mode of the Mixture Model\n"
     ]
    },
    {
     "name": "stderr",
     "output_type": "stream",
     "text": [
      "\r",
      " 45%|██████████████████████████████████████████████████████████████████████████████████████████▍                                                                                                              | 18/40 [01:07<01:21,  3.70s/it]"
     ]
    },
    {
     "name": "stdout",
     "output_type": "stream",
     "text": [
      "Warning: Returns the mean of the most likely latent mode. Not the mode of the Mixture Model\n"
     ]
    },
    {
     "name": "stderr",
     "output_type": "stream",
     "text": [
      "\r",
      " 48%|███████████████████████████████████████████████████████████████████████████████████████████████▍                                                                                                         | 19/40 [01:11<01:18,  3.72s/it]"
     ]
    },
    {
     "name": "stdout",
     "output_type": "stream",
     "text": [
      "Warning: Returns the mean of the most likely latent mode. Not the mode of the Mixture Model\n"
     ]
    },
    {
     "name": "stderr",
     "output_type": "stream",
     "text": [
      "\r",
      " 50%|████████████████████████████████████████████████████████████████████████████████████████████████████▌                                                                                                    | 20/40 [01:15<01:14,  3.71s/it]"
     ]
    },
    {
     "name": "stdout",
     "output_type": "stream",
     "text": [
      "Warning: Returns the mean of the most likely latent mode. Not the mode of the Mixture Model\n"
     ]
    },
    {
     "name": "stderr",
     "output_type": "stream",
     "text": [
      "\r",
      " 52%|█████████████████████████████████████████████████████████████████████████████████████████████████████████▌                                                                                               | 21/40 [01:19<01:10,  3.72s/it]"
     ]
    },
    {
     "name": "stdout",
     "output_type": "stream",
     "text": [
      "Warning: Returns the mean of the most likely latent mode. Not the mode of the Mixture Model\n"
     ]
    },
    {
     "name": "stderr",
     "output_type": "stream",
     "text": [
      "\r",
      " 55%|██████████████████████████████████████████████████████████████████████████████████████████████████████████████▌                                                                                          | 22/40 [01:22<01:07,  3.73s/it]"
     ]
    },
    {
     "name": "stdout",
     "output_type": "stream",
     "text": [
      "Warning: Returns the mean of the most likely latent mode. Not the mode of the Mixture Model\n"
     ]
    },
    {
     "name": "stderr",
     "output_type": "stream",
     "text": [
      "\r",
      " 57%|███████████████████████████████████████████████████████████████████████████████████████████████████████████████████▌                                                                                     | 23/40 [01:26<01:03,  3.73s/it]"
     ]
    },
    {
     "name": "stdout",
     "output_type": "stream",
     "text": [
      "Warning: Returns the mean of the most likely latent mode. Not the mode of the Mixture Model\n"
     ]
    },
    {
     "name": "stderr",
     "output_type": "stream",
     "text": [
      "\r",
      " 60%|████████████████████████████████████████████████████████████████████████████████████████████████████████████████████████▌                                                                                | 24/40 [01:30<00:59,  3.72s/it]"
     ]
    },
    {
     "name": "stdout",
     "output_type": "stream",
     "text": [
      "Warning: Returns the mean of the most likely latent mode. Not the mode of the Mixture Model\n"
     ]
    },
    {
     "name": "stderr",
     "output_type": "stream",
     "text": [
      "\r",
      " 62%|█████████████████████████████████████████████████████████████████████████████████████████████████████████████████████████████▋                                                                           | 25/40 [01:34<00:55,  3.72s/it]"
     ]
    },
    {
     "name": "stdout",
     "output_type": "stream",
     "text": [
      "Warning: Returns the mean of the most likely latent mode. Not the mode of the Mixture Model\n"
     ]
    },
    {
     "name": "stderr",
     "output_type": "stream",
     "text": [
      "\r",
      " 65%|██████████████████████████████████████████████████████████████████████████████████████████████████████████████████████████████████▋                                                                      | 26/40 [01:37<00:52,  3.74s/it]"
     ]
    },
    {
     "name": "stdout",
     "output_type": "stream",
     "text": [
      "Warning: Returns the mean of the most likely latent mode. Not the mode of the Mixture Model\n"
     ]
    },
    {
     "name": "stderr",
     "output_type": "stream",
     "text": [
      "\r",
      " 68%|███████████████████████████████████████████████████████████████████████████████████████████████████████████████████████████████████████▋                                                                 | 27/40 [01:41<00:48,  3.74s/it]"
     ]
    },
    {
     "name": "stdout",
     "output_type": "stream",
     "text": [
      "Warning: Returns the mean of the most likely latent mode. Not the mode of the Mixture Model\n"
     ]
    },
    {
     "name": "stderr",
     "output_type": "stream",
     "text": [
      "\r",
      " 70%|████████████████████████████████████████████████████████████████████████████████████████████████████████████████████████████████████████████▋                                                            | 28/40 [01:45<00:45,  3.77s/it]"
     ]
    },
    {
     "name": "stdout",
     "output_type": "stream",
     "text": [
      "Warning: Returns the mean of the most likely latent mode. Not the mode of the Mixture Model\n"
     ]
    },
    {
     "name": "stderr",
     "output_type": "stream",
     "text": [
      "\r",
      " 72%|█████████████████████████████████████████████████████████████████████████████████████████████████████████████████████████████████████████████████▋                                                       | 29/40 [01:49<00:41,  3.77s/it]"
     ]
    },
    {
     "name": "stdout",
     "output_type": "stream",
     "text": [
      "Warning: Returns the mean of the most likely latent mode. Not the mode of the Mixture Model\n"
     ]
    },
    {
     "name": "stderr",
     "output_type": "stream",
     "text": [
      "\r",
      " 75%|██████████████████████████████████████████████████████████████████████████████████████████████████████████████████████████████████████████████████████▊                                                  | 30/40 [01:52<00:37,  3.76s/it]"
     ]
    },
    {
     "name": "stdout",
     "output_type": "stream",
     "text": [
      "Warning: Returns the mean of the most likely latent mode. Not the mode of the Mixture Model\n"
     ]
    },
    {
     "name": "stderr",
     "output_type": "stream",
     "text": [
      "\r",
      " 78%|███████████████████████████████████████████████████████████████████████████████████████████████████████████████████████████████████████████████████████████▊                                             | 31/40 [01:56<00:33,  3.75s/it]"
     ]
    },
    {
     "name": "stdout",
     "output_type": "stream",
     "text": [
      "Warning: Returns the mean of the most likely latent mode. Not the mode of the Mixture Model\n"
     ]
    },
    {
     "name": "stderr",
     "output_type": "stream",
     "text": [
      "\r",
      " 80%|████████████████████████████████████████████████████████████████████████████████████████████████████████████████████████████████████████████████████████████████▊                                        | 32/40 [02:00<00:30,  3.78s/it]"
     ]
    },
    {
     "name": "stdout",
     "output_type": "stream",
     "text": [
      "Warning: Returns the mean of the most likely latent mode. Not the mode of the Mixture Model\n"
     ]
    },
    {
     "name": "stderr",
     "output_type": "stream",
     "text": [
      "\r",
      " 82%|█████████████████████████████████████████████████████████████████████████████████████████████████████████████████████████████████████████████████████████████████████▊                                   | 33/40 [02:04<00:26,  3.79s/it]"
     ]
    },
    {
     "name": "stdout",
     "output_type": "stream",
     "text": [
      "Warning: Returns the mean of the most likely latent mode. Not the mode of the Mixture Model\n"
     ]
    },
    {
     "name": "stderr",
     "output_type": "stream",
     "text": [
      "\r",
      " 85%|██████████████████████████████████████████████████████████████████████████████████████████████████████████████████████████████████████████████████████████████████████████▊                              | 34/40 [02:08<00:22,  3.80s/it]"
     ]
    },
    {
     "name": "stdout",
     "output_type": "stream",
     "text": [
      "Warning: Returns the mean of the most likely latent mode. Not the mode of the Mixture Model\n"
     ]
    },
    {
     "name": "stderr",
     "output_type": "stream",
     "text": [
      "\r",
      " 88%|███████████████████████████████████████████████████████████████████████████████████████████████████████████████████████████████████████████████████████████████████████████████▉                         | 35/40 [02:11<00:19,  3.80s/it]"
     ]
    },
    {
     "name": "stdout",
     "output_type": "stream",
     "text": [
      "Warning: Returns the mean of the most likely latent mode. Not the mode of the Mixture Model\n"
     ]
    },
    {
     "name": "stderr",
     "output_type": "stream",
     "text": [
      "\r",
      " 90%|████████████████████████████████████████████████████████████████████████████████████████████████████████████████████████████████████████████████████████████████████████████████████▉                    | 36/40 [02:15<00:15,  3.77s/it]"
     ]
    },
    {
     "name": "stdout",
     "output_type": "stream",
     "text": [
      "Warning: Returns the mean of the most likely latent mode. Not the mode of the Mixture Model\n"
     ]
    },
    {
     "name": "stderr",
     "output_type": "stream",
     "text": [
      "\r",
      " 92%|█████████████████████████████████████████████████████████████████████████████████████████████████████████████████████████████████████████████████████████████████████████████████████████▉               | 37/40 [02:19<00:11,  3.76s/it]"
     ]
    },
    {
     "name": "stdout",
     "output_type": "stream",
     "text": [
      "Warning: Returns the mean of the most likely latent mode. Not the mode of the Mixture Model\n"
     ]
    },
    {
     "name": "stderr",
     "output_type": "stream",
     "text": [
      "\r",
      " 95%|██████████████████████████████████████████████████████████████████████████████████████████████████████████████████████████████████████████████████████████████████████████████████████████████▉          | 38/40 [02:23<00:07,  3.77s/it]"
     ]
    },
    {
     "name": "stdout",
     "output_type": "stream",
     "text": [
      "Warning: Returns the mean of the most likely latent mode. Not the mode of the Mixture Model\n"
     ]
    },
    {
     "name": "stderr",
     "output_type": "stream",
     "text": [
      "100%|█████████████████████████████████████████████████████████████████████████████████████████████████████████████████████████████████████████████████████████████████████████████████████████████████████████| 40/40 [02:27<00:00,  3.68s/it]"
     ]
    },
    {
     "name": "stdout",
     "output_type": "stream",
     "text": [
      "Warning: Returns the mean of the most likely latent mode. Not the mode of the Mixture Model\n"
     ]
    },
    {
     "name": "stderr",
     "output_type": "stream",
     "text": [
      "\n"
     ]
    }
   ],
   "source": [
    "mae_l2_metric.reset()\n",
    "mpjpe_metric.reset()\n",
    "modes = []\n",
    "mode_probs = []\n",
    "mode_s = []\n",
    "with torch.no_grad():\n",
    "    for x, y in tqdm(data_loader_eval):\n",
    "\n",
    "        # Remove static nodes\n",
    "        x_dynamic = Quaternion.qfix_positive_(x[:, :, skeleton.dynamic_nodes])\n",
    "\n",
    "        # Run Model \n",
    "        p_q, _, _, _ = model(x_dynamic, None, ph=20)\n",
    "\n",
    "        # The mode of the Distribution are the rotations\n",
    "        q_mode = p_q.mode\n",
    "        # Add static rotations q = [1., 0., 0., 0.]\n",
    "        q_mode_all = add_static_nodes(q_mode, skeleton.static_nodes, skeleton.dynamic_nodes)\n",
    "        modes.append(add_static_nodes(sorted_modes(p_q).permute(0, 1, 3, 2, 4), skeleton.static_nodes, skeleton.dynamic_nodes))\n",
    "\n",
    "        mae_l2_metric.update((q_mode_all, y))\n",
    "\n",
    "        pos_mode_all = skeleton(q_mode_all.view(-1, 22, 4)).view(-1, 20, 22, 3)\n",
    "        pos_y = skeleton(y.view(-1, 22, 4)).view(-1, 20, 22, 3)\n",
    "        mpjpe_metric.update((pos_mode_all, pos_y))"
   ]
  },
  {
   "cell_type": "code",
   "execution_count": 26,
   "id": "2c573eb9",
   "metadata": {},
   "outputs": [
    {
     "name": "stdout",
     "output_type": "stream",
     "text": [
      "10000 Sequences used for evaluation.\n"
     ]
    }
   ],
   "source": [
    "print(f\"{mae_l2_metric.y.shape[0]} Sequences used for evaluation.\")"
   ]
  },
  {
   "cell_type": "code",
   "execution_count": 27,
   "id": "291f96fd",
   "metadata": {},
   "outputs": [],
   "source": [
    "e1f = Quaternion.euler_angle_(mae_l2_metric.y_pred.contiguous(), 'zyx').flatten(start_dim=-2)\n",
    "e2f = Quaternion.euler_angle_(mae_l2_metric.y.contiguous(), 'zyx').flatten(start_dim=-2)\n",
    "diff_modes = torch.remainder(e1f - e2f + np.pi, 2 * np.pi) - np.pi"
   ]
  },
  {
   "cell_type": "code",
   "execution_count": 28,
   "id": "8f3521ed",
   "metadata": {},
   "outputs": [],
   "source": [
    "def mae_l2_modes(modes, y):\n",
    "    e1f = Quaternion.euler_angle_(modes.contiguous(), 'zyx').flatten(start_dim=-2)\n",
    "    e2f = Quaternion.euler_angle_(y.contiguous(), 'zyx').flatten(start_dim=-2)\n",
    "    diff_modes = torch.remainder(e1f - e2f + np.pi, 2 * np.pi) - np.pi\n",
    "    _, idx = diff_modes.norm(dim=-1).mean(1).min(-1)\n",
    "    return diff_modes.norm(dim=-1).gather(dim=-1, \n",
    "                             index=idx.unsqueeze(-1).unsqueeze(-1).repeat(1, diff_modes.shape[1], 1)).mean(0).squeeze()"
   ]
  },
  {
   "cell_type": "code",
   "execution_count": 29,
   "id": "becf4baf",
   "metadata": {},
   "outputs": [],
   "source": [
    "def mpjpe_modes(modes, y):\n",
    "    pos_modes = skeleton(modes.view(-1, 22, 4)).view(modes.shape[:-1] + (3,))\n",
    "    pos_y = skeleton(y.view(-1, 22, 4)).view(y.shape[:-1] + (3,))\n",
    "    diff_modes = (pos_y - pos_modes).norm(dim=-1)\n",
    "    _, idx = diff_modes.mean(dim=[1, -1]).min(-1)\n",
    "    return diff_modes.mean(-1).gather(dim=-1, \n",
    "                             index=idx.unsqueeze(-1).unsqueeze(-1).repeat(1, diff_modes.shape[1], 1)).squeeze().mean(0)"
   ]
  },
  {
   "cell_type": "code",
   "execution_count": 30,
   "id": "1cdcf766",
   "metadata": {},
   "outputs": [],
   "source": [
    "mae_l2_besto3 = mae_l2_modes(torch.cat(modes, dim=0)[..., :3, 1:, :], mae_l2_metric.y[..., 1:, :].unsqueeze(2))\n",
    "mae_l2_besto5 = mae_l2_modes(torch.cat(modes, dim=0)[..., :5, 1:, :], mae_l2_metric.y[..., 1:, :].unsqueeze(2))\n",
    "mae_l2_besto10 = mae_l2_modes(torch.cat(modes, dim=0)[..., :10, 1:, :], mae_l2_metric.y[..., 1:, :].unsqueeze(2))"
   ]
  },
  {
   "cell_type": "code",
   "execution_count": 31,
   "id": "25a13225",
   "metadata": {},
   "outputs": [],
   "source": [
    "mpjpe_besto3 = mpjpe_modes(torch.cat(modes, dim=0)[..., :3, :, :].contiguous(), mae_l2_metric.y.unsqueeze(2))\n",
    "mpjpe_besto5 = mpjpe_modes(torch.cat(modes, dim=0)[..., :5, :, :].contiguous(), mae_l2_metric.y.unsqueeze(2))\n",
    "mpjpe_besto10 = mpjpe_modes(torch.cat(modes, dim=0)[..., :10, :, :].contiguous(), mae_l2_metric.y.unsqueeze(2))"
   ]
  },
  {
   "cell_type": "code",
   "execution_count": 32,
   "id": "515e4555",
   "metadata": {},
   "outputs": [],
   "source": [
    "mae_l2 = mae_l2_metric.compute().numpy()\n",
    "mpjpe = mpjpe_metric.compute().numpy()"
   ]
  },
  {
   "cell_type": "code",
   "execution_count": 33,
   "id": "4f42dca4",
   "metadata": {},
   "outputs": [],
   "source": [
    "result = pd.DataFrame()\n",
    "result.insert(0, 'Mean Angle Error (L2) BO10', pd.Series(data=mae_l2_besto10.numpy(), index=0.05*np.arange(1, mae_l2.shape[0] + 1)))\n",
    "result.insert(0, 'Mean Angle Error (L2) BO5', pd.Series(data=mae_l2_besto5.numpy(), index=0.05*np.arange(1, mae_l2.shape[0] + 1)))\n",
    "result.insert(0, 'Mean Angle Error (L2) BO3', pd.Series(data=mae_l2_besto3.numpy(), index=0.05*np.arange(1, mae_l2.shape[0] + 1)))\n",
    "result.insert(0, 'Mean Angle Error (L2)', pd.Series(data=mae_l2, index=0.05*np.arange(1, mae_l2.shape[0] + 1)))\n",
    "result.insert(0, 'Mean per Joint Position Error BO10', pd.Series(data=mpjpe_besto10*1000, index=0.05*np.arange(1, mpjpe.shape[0] + 1)))\n",
    "result.insert(0, 'Mean per Joint Position Error BO5', pd.Series(data=mpjpe_besto5*1000, index=0.05*np.arange(1, mpjpe.shape[0] + 1)))\n",
    "result.insert(0, 'Mean per Joint Position Error BO3', pd.Series(data=mpjpe_besto3*1000, index=0.05*np.arange(1, mpjpe.shape[0] + 1)))\n",
    "result.insert(0, 'Mean per Joint Position Error', pd.Series(data=mpjpe*1000, index=0.05*np.arange(1, mpjpe.shape[0] + 1)))\n",
    "result.index.set_names(['T'], inplace=True)"
   ]
  },
  {
   "cell_type": "code",
   "execution_count": 34,
   "id": "e92efb9e",
   "metadata": {},
   "outputs": [
    {
     "data": {
      "text/html": [
       "<table border=\"1\" class=\"dataframe\">\n",
       "  <thead>\n",
       "    <tr style=\"text-align: right;\">\n",
       "      <th></th>\n",
       "      <th>Mean per Joint Position Error</th>\n",
       "      <th>Mean per Joint Position Error BO3</th>\n",
       "      <th>Mean per Joint Position Error BO5</th>\n",
       "      <th>Mean per Joint Position Error BO10</th>\n",
       "      <th>Mean Angle Error (L2)</th>\n",
       "      <th>Mean Angle Error (L2) BO3</th>\n",
       "      <th>Mean Angle Error (L2) BO5</th>\n",
       "      <th>Mean Angle Error (L2) BO10</th>\n",
       "    </tr>\n",
       "    <tr>\n",
       "      <th>T</th>\n",
       "      <th></th>\n",
       "      <th></th>\n",
       "      <th></th>\n",
       "      <th></th>\n",
       "      <th></th>\n",
       "      <th></th>\n",
       "      <th></th>\n",
       "      <th></th>\n",
       "    </tr>\n",
       "  </thead>\n",
       "  <tbody>\n",
       "    <tr>\n",
       "      <th>0.1</th>\n",
       "      <td>19.14</td>\n",
       "      <td>19.02</td>\n",
       "      <td>19.12</td>\n",
       "      <td>19.12</td>\n",
       "      <td>0.42</td>\n",
       "      <td>0.42</td>\n",
       "      <td>0.42</td>\n",
       "      <td>0.42</td>\n",
       "    </tr>\n",
       "    <tr>\n",
       "      <th>0.2</th>\n",
       "      <td>38.19</td>\n",
       "      <td>37.33</td>\n",
       "      <td>37.37</td>\n",
       "      <td>37.37</td>\n",
       "      <td>0.76</td>\n",
       "      <td>0.74</td>\n",
       "      <td>0.74</td>\n",
       "      <td>0.74</td>\n",
       "    </tr>\n",
       "    <tr>\n",
       "      <th>0.4</th>\n",
       "      <td>64.14</td>\n",
       "      <td>59.91</td>\n",
       "      <td>58.76</td>\n",
       "      <td>58.76</td>\n",
       "      <td>1.08</td>\n",
       "      <td>1.01</td>\n",
       "      <td>0.99</td>\n",
       "      <td>0.99</td>\n",
       "    </tr>\n",
       "    <tr>\n",
       "      <th>0.6</th>\n",
       "      <td>76.92</td>\n",
       "      <td>69.99</td>\n",
       "      <td>67.52</td>\n",
       "      <td>67.52</td>\n",
       "      <td>1.22</td>\n",
       "      <td>1.12</td>\n",
       "      <td>1.09</td>\n",
       "      <td>1.09</td>\n",
       "    </tr>\n",
       "    <tr>\n",
       "      <th>0.8</th>\n",
       "      <td>84.25</td>\n",
       "      <td>76.56</td>\n",
       "      <td>73.82</td>\n",
       "      <td>73.82</td>\n",
       "      <td>1.31</td>\n",
       "      <td>1.20</td>\n",
       "      <td>1.17</td>\n",
       "      <td>1.17</td>\n",
       "    </tr>\n",
       "    <tr>\n",
       "      <th>1.0</th>\n",
       "      <td>89.90</td>\n",
       "      <td>82.83</td>\n",
       "      <td>80.95</td>\n",
       "      <td>80.95</td>\n",
       "      <td>1.38</td>\n",
       "      <td>1.28</td>\n",
       "      <td>1.27</td>\n",
       "      <td>1.27</td>\n",
       "    </tr>\n",
       "  </tbody>\n",
       "</table>"
      ],
      "text/plain": [
       "<IPython.core.display.HTML object>"
      ]
     },
     "metadata": {},
     "output_type": "display_data"
    }
   ],
   "source": [
    "display(HTML(result.iloc[t].to_html(float_format=lambda x: '%.2f' % x)))"
   ]
  },
  {
   "cell_type": "code",
   "execution_count": 40,
   "id": "5e475be6",
   "metadata": {},
   "outputs": [],
   "source": [
    "np.save('probs',np.concatenate(mode_probs, axis=0))"
   ]
  },
  {
   "cell_type": "markdown",
   "id": "4dae4fa6",
   "metadata": {},
   "source": [
    "# Evaluation of Weighted Mean on AMASS dataset"
   ]
  },
  {
   "cell_type": "markdown",
   "id": "1ae29fdc",
   "metadata": {},
   "source": [
    "## Evaluate on 10000 samples"
   ]
  },
  {
   "cell_type": "code",
   "execution_count": 35,
   "id": "3422df51",
   "metadata": {},
   "outputs": [],
   "source": [
    "eval_idx = list(torch.linspace(0, len(dataset_eval)-1, 10000, dtype=torch.int).numpy())\n",
    "eval_subset = torch.utils.data.Subset(dataset_eval, eval_idx)\n",
    "data_loader_eval = DataLoader(eval_subset, shuffle=False, batch_size=256)"
   ]
  },
  {
   "cell_type": "code",
   "execution_count": 36,
   "id": "fca8b971",
   "metadata": {
    "scrolled": true
   },
   "outputs": [
    {
     "name": "stderr",
     "output_type": "stream",
     "text": [
      "100%|█████████████████████████████████████████████████████████████████████████████████████████████████████████████████████████████████████████████████████████████████████████████████████████████████████████| 40/40 [02:22<00:00,  3.55s/it]\n"
     ]
    }
   ],
   "source": [
    "mae_l2_metric.reset()\n",
    "mpjpe_metric.reset()\n",
    "with torch.no_grad():\n",
    "    for x, y in tqdm(data_loader_eval):\n",
    "\n",
    "        # Remove static nodes\n",
    "        x_dynamic = Quaternion.qfix_positive_(x[:, :, skeleton.dynamic_nodes])\n",
    "\n",
    "        # Run Model \n",
    "        p_q, _, _, _ = model(x_dynamic, None, ph=20)\n",
    "\n",
    "        \n",
    "        # The mode of the Distribution are the rotations\n",
    "        q_mode = p_q.weighted_mean\n",
    "        # Add static rotations q = [1., 0., 0., 0.]\n",
    "        q_mode_all = add_static_nodes(q_mode, skeleton.static_nodes, skeleton.dynamic_nodes)\n",
    "        \n",
    "        mae_l2_metric.update((q_mode_all, y))\n",
    "\n",
    "        pos_mode_all = skeleton(q_mode_all.view(-1, 22, 4)).view(-1, 20, 22, 3)\n",
    "        pos_y = skeleton(y.view(-1, 22, 4)).view(-1, 20, 22, 3)\n",
    "        mpjpe_metric.update((pos_mode_all, pos_y))"
   ]
  },
  {
   "cell_type": "code",
   "execution_count": 37,
   "id": "1048c7f5",
   "metadata": {},
   "outputs": [
    {
     "name": "stdout",
     "output_type": "stream",
     "text": [
      "10000 Sequences used for evaluation.\n"
     ]
    }
   ],
   "source": [
    "print(f\"{mae_l2_metric.y.shape[0]} Sequences used for evaluation.\")"
   ]
  },
  {
   "cell_type": "code",
   "execution_count": 38,
   "id": "0721c10a",
   "metadata": {},
   "outputs": [
    {
     "data": {
      "text/plain": [
       "tensor(-0.0241)"
      ]
     },
     "execution_count": 38,
     "metadata": {},
     "output_type": "execute_result"
    }
   ],
   "source": [
    "skeleton(q_mode_all.view(-1, 22, 4))[1:].mean()"
   ]
  },
  {
   "cell_type": "code",
   "execution_count": 39,
   "id": "62046698",
   "metadata": {},
   "outputs": [],
   "source": [
    "mae_l2 = mae_l2_metric.compute().numpy()\n",
    "mpjpe = mpjpe_metric.compute().numpy()"
   ]
  },
  {
   "cell_type": "code",
   "execution_count": 40,
   "id": "016cc44d",
   "metadata": {},
   "outputs": [],
   "source": [
    "result = pd.DataFrame()\n",
    "result.insert(0, 'Mean Angle Error (L2)', pd.Series(data=mae_l2, index=0.05*np.arange(1, mae_l2.shape[0] + 1)))\n",
    "result.insert(0, 'Mean per Joint Position Error', pd.Series(data=mpjpe*1000, index=0.05*np.arange(1, mpjpe.shape[0] + 1)))\n",
    "result.index.set_names(['T'], inplace=True)"
   ]
  },
  {
   "cell_type": "code",
   "execution_count": 41,
   "id": "4ae8d934",
   "metadata": {},
   "outputs": [
    {
     "data": {
      "text/html": [
       "<table border=\"1\" class=\"dataframe\">\n",
       "  <thead>\n",
       "    <tr style=\"text-align: right;\">\n",
       "      <th></th>\n",
       "      <th>Mean per Joint Position Error</th>\n",
       "      <th>Mean Angle Error (L2)</th>\n",
       "    </tr>\n",
       "    <tr>\n",
       "      <th>T</th>\n",
       "      <th></th>\n",
       "      <th></th>\n",
       "    </tr>\n",
       "  </thead>\n",
       "  <tbody>\n",
       "    <tr>\n",
       "      <th>0.1</th>\n",
       "      <td>19.05</td>\n",
       "      <td>0.42</td>\n",
       "    </tr>\n",
       "    <tr>\n",
       "      <th>0.2</th>\n",
       "      <td>37.81</td>\n",
       "      <td>0.76</td>\n",
       "    </tr>\n",
       "    <tr>\n",
       "      <th>0.4</th>\n",
       "      <td>63.00</td>\n",
       "      <td>1.05</td>\n",
       "    </tr>\n",
       "    <tr>\n",
       "      <th>0.6</th>\n",
       "      <td>75.28</td>\n",
       "      <td>1.19</td>\n",
       "    </tr>\n",
       "    <tr>\n",
       "      <th>0.8</th>\n",
       "      <td>82.31</td>\n",
       "      <td>1.27</td>\n",
       "    </tr>\n",
       "    <tr>\n",
       "      <th>1.0</th>\n",
       "      <td>87.48</td>\n",
       "      <td>1.33</td>\n",
       "    </tr>\n",
       "  </tbody>\n",
       "</table>"
      ],
      "text/plain": [
       "<IPython.core.display.HTML object>"
      ]
     },
     "metadata": {},
     "output_type": "display_data"
    }
   ],
   "source": [
    "display(HTML(result.iloc[t].to_html(float_format=lambda x: '%.2f' % x)))"
   ]
  },
  {
   "cell_type": "code",
   "execution_count": 42,
   "id": "2159d1eb",
   "metadata": {
    "scrolled": true
   },
   "outputs": [
    {
     "data": {
      "text/html": [
       "<table border=\"1\" class=\"dataframe\">\n",
       "  <thead>\n",
       "    <tr style=\"text-align: right;\">\n",
       "      <th></th>\n",
       "      <th>Mean per Joint Position Error</th>\n",
       "      <th>Mean Angle Error (L2)</th>\n",
       "    </tr>\n",
       "    <tr>\n",
       "      <th>T</th>\n",
       "      <th></th>\n",
       "      <th></th>\n",
       "    </tr>\n",
       "  </thead>\n",
       "  <tbody>\n",
       "    <tr>\n",
       "      <th>0.1</th>\n",
       "      <td>19.05</td>\n",
       "      <td>0.42</td>\n",
       "    </tr>\n",
       "    <tr>\n",
       "      <th>0.2</th>\n",
       "      <td>37.81</td>\n",
       "      <td>0.76</td>\n",
       "    </tr>\n",
       "    <tr>\n",
       "      <th>0.4</th>\n",
       "      <td>63.00</td>\n",
       "      <td>1.05</td>\n",
       "    </tr>\n",
       "    <tr>\n",
       "      <th>0.6</th>\n",
       "      <td>75.28</td>\n",
       "      <td>1.19</td>\n",
       "    </tr>\n",
       "    <tr>\n",
       "      <th>0.8</th>\n",
       "      <td>82.31</td>\n",
       "      <td>1.27</td>\n",
       "    </tr>\n",
       "    <tr>\n",
       "      <th>1.0</th>\n",
       "      <td>87.48</td>\n",
       "      <td>1.33</td>\n",
       "    </tr>\n",
       "  </tbody>\n",
       "</table>"
      ],
      "text/plain": [
       "<IPython.core.display.HTML object>"
      ]
     },
     "metadata": {},
     "output_type": "display_data"
    }
   ],
   "source": [
    "display(HTML(result.iloc[t].to_html(float_format=lambda x: '%.2f' % x)))"
   ]
  },
  {
   "cell_type": "code",
   "execution_count": null,
   "id": "00394b32",
   "metadata": {},
   "outputs": [],
   "source": []
  }
 ],
 "metadata": {
  "kernelspec": {
   "display_name": "Python 3 (ipykernel)",
   "language": "python",
   "name": "python3"
  },
  "language_info": {
   "codemirror_mode": {
    "name": "ipython",
    "version": 3
   },
   "file_extension": ".py",
   "mimetype": "text/x-python",
   "name": "python",
   "nbconvert_exporter": "python",
   "pygments_lexer": "ipython3",
   "version": "3.8.10"
  }
 },
 "nbformat": 4,
 "nbformat_minor": 5
}
